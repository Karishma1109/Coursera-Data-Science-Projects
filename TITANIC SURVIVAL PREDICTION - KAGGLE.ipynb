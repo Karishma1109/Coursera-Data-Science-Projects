{
 "cells": [
  {
   "cell_type": "markdown",
   "metadata": {
    "papermill": {
     "duration": 0.03477,
     "end_time": "2020-10-15T04:09:11.437818",
     "exception": false,
     "start_time": "2020-10-15T04:09:11.403048",
     "status": "completed"
    },
    "tags": []
   },
   "source": [
    "# TITANIC SURVIVAL PREDICTION PROJECT\n",
    "\n",
    "![](https://preview.redd.it/zgu6xooz72a21.jpg?width=560&auto=webp&s=957db3b659f0d781eb3a958b3d0a1561dbd38a40)\n",
    "\n",
    "This project is for the purpose of submission to the legendary Titanic ML competition on the Kaggle platform.\n",
    "The competition is simple: use machine learning to create a model that predicts which passengers survived the Titanic shipwreck.\n",
    "\n",
    "The RMS Titanic was a British passenger liner that sank in the North Atlantic Ocean in the early morning hours of 15 April 1912, after it collided with an iceberg during its maiden voyage from Southampton to New York City. There were an estimated 2,224 passengers and crew aboard the ship, and more than 1,500 died, making it one of the deadliest commercial peacetime maritime disasters in modern history. The RMS Titanic was the largest ship afloat at the time it entered service and was the second of three Olympic-class ocean liners operated by the White Star Line. The Titanic was built by the Harland and Wolff shipyard in Belfast. Thomas Andrews, her architect, died in the disaster.\n",
    "\n",
    "While there was some element of luck involved in surviving, it seems some groups of people were more likely to survive than others.\n",
    "\n",
    "The data has been split into two groups:\n",
    "\n",
    "1. training set (train.csv)\n",
    "2. testing set (test.csv)"
   ]
  },
  {
   "cell_type": "markdown",
   "metadata": {
    "papermill": {
     "duration": 0.033407,
     "end_time": "2020-10-15T04:09:11.505130",
     "exception": false,
     "start_time": "2020-10-15T04:09:11.471723",
     "status": "completed"
    },
    "tags": []
   },
   "source": [
    "# Importing the required libraries:"
   ]
  },
  {
   "cell_type": "code",
   "execution_count": 1,
   "metadata": {
    "_cell_guid": "79c7e3d0-c299-4dcb-8224-4455121ee9b0",
    "_uuid": "d629ff2d2480ee46fbb7e2d37f6b5fab8052498a",
    "execution": {
     "iopub.execute_input": "2020-10-15T04:09:11.582368Z",
     "iopub.status.busy": "2020-10-15T04:09:11.581667Z",
     "iopub.status.idle": "2020-10-15T04:09:14.031162Z",
     "shell.execute_reply": "2020-10-15T04:09:14.030369Z"
    },
    "papermill": {
     "duration": 2.49263,
     "end_time": "2020-10-15T04:09:14.031340",
     "exception": false,
     "start_time": "2020-10-15T04:09:11.538710",
     "status": "completed"
    },
    "tags": []
   },
   "outputs": [],
   "source": [
    "# linear algebra\n",
    "import numpy as np \n",
    "\n",
    "# data processing\n",
    "import pandas as pd \n",
    "\n",
    "# data visualization\n",
    "import seaborn as sns\n",
    "%matplotlib inline\n",
    "from matplotlib import pyplot as plt\n",
    "from matplotlib import style\n",
    "\n",
    "# Algorithms\n",
    "from sklearn import linear_model\n",
    "from sklearn.linear_model import LogisticRegression\n",
    "from sklearn.ensemble import RandomForestClassifier\n",
    "from sklearn.linear_model import Perceptron\n",
    "from sklearn.linear_model import SGDClassifier\n",
    "from sklearn.tree import DecisionTreeClassifier\n",
    "from sklearn.neighbors import KNeighborsClassifier\n",
    "from sklearn.svm import SVC, LinearSVC\n",
    "from sklearn.naive_bayes import GaussianNB\n",
    "from xgboost import XGBClassifier"
   ]
  },
  {
   "cell_type": "markdown",
   "metadata": {
    "papermill": {
     "duration": 0.033624,
     "end_time": "2020-10-15T04:09:14.100734",
     "exception": false,
     "start_time": "2020-10-15T04:09:14.067110",
     "status": "completed"
    },
    "tags": []
   },
   "source": [
    "# Loading the Data Sets:"
   ]
  },
  {
   "cell_type": "code",
   "execution_count": 2,
   "metadata": {
    "execution": {
     "iopub.execute_input": "2020-10-15T04:09:14.178237Z",
     "iopub.status.busy": "2020-10-15T04:09:14.177118Z",
     "iopub.status.idle": "2020-10-15T04:09:14.219061Z",
     "shell.execute_reply": "2020-10-15T04:09:14.218202Z"
    },
    "papermill": {
     "duration": 0.084691,
     "end_time": "2020-10-15T04:09:14.219214",
     "exception": false,
     "start_time": "2020-10-15T04:09:14.134523",
     "status": "completed"
    },
    "tags": []
   },
   "outputs": [
    {
     "data": {
      "text/html": [
       "<div>\n",
       "<style scoped>\n",
       "    .dataframe tbody tr th:only-of-type {\n",
       "        vertical-align: middle;\n",
       "    }\n",
       "\n",
       "    .dataframe tbody tr th {\n",
       "        vertical-align: top;\n",
       "    }\n",
       "\n",
       "    .dataframe thead th {\n",
       "        text-align: right;\n",
       "    }\n",
       "</style>\n",
       "<table border=\"1\" class=\"dataframe\">\n",
       "  <thead>\n",
       "    <tr style=\"text-align: right;\">\n",
       "      <th></th>\n",
       "      <th>PassengerId</th>\n",
       "      <th>Survived</th>\n",
       "      <th>Pclass</th>\n",
       "      <th>Name</th>\n",
       "      <th>Sex</th>\n",
       "      <th>Age</th>\n",
       "      <th>SibSp</th>\n",
       "      <th>Parch</th>\n",
       "      <th>Ticket</th>\n",
       "      <th>Fare</th>\n",
       "      <th>Cabin</th>\n",
       "      <th>Embarked</th>\n",
       "    </tr>\n",
       "  </thead>\n",
       "  <tbody>\n",
       "    <tr>\n",
       "      <th>0</th>\n",
       "      <td>1</td>\n",
       "      <td>0</td>\n",
       "      <td>3</td>\n",
       "      <td>Braund, Mr. Owen Harris</td>\n",
       "      <td>male</td>\n",
       "      <td>22.0</td>\n",
       "      <td>1</td>\n",
       "      <td>0</td>\n",
       "      <td>A/5 21171</td>\n",
       "      <td>7.2500</td>\n",
       "      <td>NaN</td>\n",
       "      <td>S</td>\n",
       "    </tr>\n",
       "    <tr>\n",
       "      <th>1</th>\n",
       "      <td>2</td>\n",
       "      <td>1</td>\n",
       "      <td>1</td>\n",
       "      <td>Cumings, Mrs. John Bradley (Florence Briggs Th...</td>\n",
       "      <td>female</td>\n",
       "      <td>38.0</td>\n",
       "      <td>1</td>\n",
       "      <td>0</td>\n",
       "      <td>PC 17599</td>\n",
       "      <td>71.2833</td>\n",
       "      <td>C85</td>\n",
       "      <td>C</td>\n",
       "    </tr>\n",
       "    <tr>\n",
       "      <th>2</th>\n",
       "      <td>3</td>\n",
       "      <td>1</td>\n",
       "      <td>3</td>\n",
       "      <td>Heikkinen, Miss. Laina</td>\n",
       "      <td>female</td>\n",
       "      <td>26.0</td>\n",
       "      <td>0</td>\n",
       "      <td>0</td>\n",
       "      <td>STON/O2. 3101282</td>\n",
       "      <td>7.9250</td>\n",
       "      <td>NaN</td>\n",
       "      <td>S</td>\n",
       "    </tr>\n",
       "    <tr>\n",
       "      <th>3</th>\n",
       "      <td>4</td>\n",
       "      <td>1</td>\n",
       "      <td>1</td>\n",
       "      <td>Futrelle, Mrs. Jacques Heath (Lily May Peel)</td>\n",
       "      <td>female</td>\n",
       "      <td>35.0</td>\n",
       "      <td>1</td>\n",
       "      <td>0</td>\n",
       "      <td>113803</td>\n",
       "      <td>53.1000</td>\n",
       "      <td>C123</td>\n",
       "      <td>S</td>\n",
       "    </tr>\n",
       "    <tr>\n",
       "      <th>4</th>\n",
       "      <td>5</td>\n",
       "      <td>0</td>\n",
       "      <td>3</td>\n",
       "      <td>Allen, Mr. William Henry</td>\n",
       "      <td>male</td>\n",
       "      <td>35.0</td>\n",
       "      <td>0</td>\n",
       "      <td>0</td>\n",
       "      <td>373450</td>\n",
       "      <td>8.0500</td>\n",
       "      <td>NaN</td>\n",
       "      <td>S</td>\n",
       "    </tr>\n",
       "    <tr>\n",
       "      <th>5</th>\n",
       "      <td>6</td>\n",
       "      <td>0</td>\n",
       "      <td>3</td>\n",
       "      <td>Moran, Mr. James</td>\n",
       "      <td>male</td>\n",
       "      <td>NaN</td>\n",
       "      <td>0</td>\n",
       "      <td>0</td>\n",
       "      <td>330877</td>\n",
       "      <td>8.4583</td>\n",
       "      <td>NaN</td>\n",
       "      <td>Q</td>\n",
       "    </tr>\n",
       "    <tr>\n",
       "      <th>6</th>\n",
       "      <td>7</td>\n",
       "      <td>0</td>\n",
       "      <td>1</td>\n",
       "      <td>McCarthy, Mr. Timothy J</td>\n",
       "      <td>male</td>\n",
       "      <td>54.0</td>\n",
       "      <td>0</td>\n",
       "      <td>0</td>\n",
       "      <td>17463</td>\n",
       "      <td>51.8625</td>\n",
       "      <td>E46</td>\n",
       "      <td>S</td>\n",
       "    </tr>\n",
       "    <tr>\n",
       "      <th>7</th>\n",
       "      <td>8</td>\n",
       "      <td>0</td>\n",
       "      <td>3</td>\n",
       "      <td>Palsson, Master. Gosta Leonard</td>\n",
       "      <td>male</td>\n",
       "      <td>2.0</td>\n",
       "      <td>3</td>\n",
       "      <td>1</td>\n",
       "      <td>349909</td>\n",
       "      <td>21.0750</td>\n",
       "      <td>NaN</td>\n",
       "      <td>S</td>\n",
       "    </tr>\n",
       "    <tr>\n",
       "      <th>8</th>\n",
       "      <td>9</td>\n",
       "      <td>1</td>\n",
       "      <td>3</td>\n",
       "      <td>Johnson, Mrs. Oscar W (Elisabeth Vilhelmina Berg)</td>\n",
       "      <td>female</td>\n",
       "      <td>27.0</td>\n",
       "      <td>0</td>\n",
       "      <td>2</td>\n",
       "      <td>347742</td>\n",
       "      <td>11.1333</td>\n",
       "      <td>NaN</td>\n",
       "      <td>S</td>\n",
       "    </tr>\n",
       "    <tr>\n",
       "      <th>9</th>\n",
       "      <td>10</td>\n",
       "      <td>1</td>\n",
       "      <td>2</td>\n",
       "      <td>Nasser, Mrs. Nicholas (Adele Achem)</td>\n",
       "      <td>female</td>\n",
       "      <td>14.0</td>\n",
       "      <td>1</td>\n",
       "      <td>0</td>\n",
       "      <td>237736</td>\n",
       "      <td>30.0708</td>\n",
       "      <td>NaN</td>\n",
       "      <td>C</td>\n",
       "    </tr>\n",
       "  </tbody>\n",
       "</table>\n",
       "</div>"
      ],
      "text/plain": [
       "   PassengerId  Survived  Pclass  \\\n",
       "0            1         0       3   \n",
       "1            2         1       1   \n",
       "2            3         1       3   \n",
       "3            4         1       1   \n",
       "4            5         0       3   \n",
       "5            6         0       3   \n",
       "6            7         0       1   \n",
       "7            8         0       3   \n",
       "8            9         1       3   \n",
       "9           10         1       2   \n",
       "\n",
       "                                                Name     Sex   Age  SibSp  \\\n",
       "0                            Braund, Mr. Owen Harris    male  22.0      1   \n",
       "1  Cumings, Mrs. John Bradley (Florence Briggs Th...  female  38.0      1   \n",
       "2                             Heikkinen, Miss. Laina  female  26.0      0   \n",
       "3       Futrelle, Mrs. Jacques Heath (Lily May Peel)  female  35.0      1   \n",
       "4                           Allen, Mr. William Henry    male  35.0      0   \n",
       "5                                   Moran, Mr. James    male   NaN      0   \n",
       "6                            McCarthy, Mr. Timothy J    male  54.0      0   \n",
       "7                     Palsson, Master. Gosta Leonard    male   2.0      3   \n",
       "8  Johnson, Mrs. Oscar W (Elisabeth Vilhelmina Berg)  female  27.0      0   \n",
       "9                Nasser, Mrs. Nicholas (Adele Achem)  female  14.0      1   \n",
       "\n",
       "   Parch            Ticket     Fare Cabin Embarked  \n",
       "0      0         A/5 21171   7.2500   NaN        S  \n",
       "1      0          PC 17599  71.2833   C85        C  \n",
       "2      0  STON/O2. 3101282   7.9250   NaN        S  \n",
       "3      0            113803  53.1000  C123        S  \n",
       "4      0            373450   8.0500   NaN        S  \n",
       "5      0            330877   8.4583   NaN        Q  \n",
       "6      0             17463  51.8625   E46        S  \n",
       "7      1            349909  21.0750   NaN        S  \n",
       "8      2            347742  11.1333   NaN        S  \n",
       "9      0            237736  30.0708   NaN        C  "
      ]
     },
     "execution_count": 2,
     "metadata": {},
     "output_type": "execute_result"
    }
   ],
   "source": [
    "titanic_train = pd.read_csv(\"/kaggle/input/titanic/train.csv\")\n",
    "titanic_test = pd.read_csv(\"/kaggle/input/titanic/test.csv\")\n",
    "titanic_train.head(10)\n"
   ]
  },
  {
   "cell_type": "markdown",
   "metadata": {
    "papermill": {
     "duration": 0.034385,
     "end_time": "2020-10-15T04:09:14.289843",
     "exception": false,
     "start_time": "2020-10-15T04:09:14.255458",
     "status": "completed"
    },
    "tags": []
   },
   "source": [
    "# Data Set feature description:\n",
    "\n",
    "PassengerId: An unique index for each passenger. It starts from 1 and increments by 1 for every new passenger.\n",
    "\n",
    "Survived: Shows if the passenger survived or not. 1 stands for survived and 0 stands for not survived.\n",
    "\n",
    "Pclass: Ticket class. \n",
    "1 stands for First class ticket. \n",
    "2 stands for Second class ticket. \n",
    "3 stands for Third class ticket. \n",
    "It is in a way proxy for socio-economic status (SES)\n",
    "1st = Upper\n",
    "2nd = Middle\n",
    "3rd = Lower\n",
    "\n",
    "Name: Passenger's name. Name also contain title. \"Mr\" for man. \"Mrs\" for woman. \"Miss\" for girl. \"Master\" for boy.\n",
    "\n",
    "Sex: Passenger's sex. It's either Male or Female.\n",
    "\n",
    "Age: Passenger's age. \"NaN\" values in this column indicates that the age of that particular passenger has not been recorded.\n",
    "\n",
    "SibSp: Number of siblings or spouses travelling with each passenger. \n",
    "The dataset defines family relations in this way...\n",
    "Sibling = brother, sister, stepbrother, stepsister\n",
    "Spouse = husband, wife (mistresses and fiancés were ignored)\n",
    "\n",
    "Parch: Number of parents of children travelling with each passenger.\n",
    "The dataset defines family relations in this way...\n",
    "Parent = mother, father\n",
    "Child = daughter, son, stepdaughter, stepson\n",
    "Some children travelled only with a nanny, therefore parch=0 for them.\n",
    "\n",
    "Ticket: Ticket number.\n",
    "\n",
    "Fare: The amount of money the passenger has paid for the travel journey(in dollars).\n",
    "\n",
    "Cabin: Cabin number of the passenger. \"NaN\" values in this column indicates that the cabin number of that particular passenger has not been recorded.\n",
    "\n",
    "Embarked: Port from where the particular passenger was embarked/boarded. Here: C = Cherbourg, Q = Queenstown, S = Southampton"
   ]
  },
  {
   "cell_type": "markdown",
   "metadata": {
    "papermill": {
     "duration": 0.035232,
     "end_time": "2020-10-15T04:09:14.359761",
     "exception": false,
     "start_time": "2020-10-15T04:09:14.324529",
     "status": "completed"
    },
    "tags": []
   },
   "source": [
    "# Data Exploration Analysis:"
   ]
  },
  {
   "cell_type": "code",
   "execution_count": 3,
   "metadata": {
    "execution": {
     "iopub.execute_input": "2020-10-15T04:09:14.448606Z",
     "iopub.status.busy": "2020-10-15T04:09:14.436691Z",
     "iopub.status.idle": "2020-10-15T04:09:14.452446Z",
     "shell.execute_reply": "2020-10-15T04:09:14.453245Z"
    },
    "papermill": {
     "duration": 0.058711,
     "end_time": "2020-10-15T04:09:14.453509",
     "exception": false,
     "start_time": "2020-10-15T04:09:14.394798",
     "status": "completed"
    },
    "tags": []
   },
   "outputs": [
    {
     "name": "stdout",
     "output_type": "stream",
     "text": [
      "<class 'pandas.core.frame.DataFrame'>\n",
      "RangeIndex: 891 entries, 0 to 890\n",
      "Data columns (total 12 columns):\n",
      " #   Column       Non-Null Count  Dtype  \n",
      "---  ------       --------------  -----  \n",
      " 0   PassengerId  891 non-null    int64  \n",
      " 1   Survived     891 non-null    int64  \n",
      " 2   Pclass       891 non-null    int64  \n",
      " 3   Name         891 non-null    object \n",
      " 4   Sex          891 non-null    object \n",
      " 5   Age          714 non-null    float64\n",
      " 6   SibSp        891 non-null    int64  \n",
      " 7   Parch        891 non-null    int64  \n",
      " 8   Ticket       891 non-null    object \n",
      " 9   Fare         891 non-null    float64\n",
      " 10  Cabin        204 non-null    object \n",
      " 11  Embarked     889 non-null    object \n",
      "dtypes: float64(2), int64(5), object(5)\n",
      "memory usage: 83.7+ KB\n"
     ]
    }
   ],
   "source": [
    "titanic_train.info()\n"
   ]
  },
  {
   "cell_type": "markdown",
   "metadata": {
    "papermill": {
     "duration": 0.035121,
     "end_time": "2020-10-15T04:09:14.525676",
     "exception": false,
     "start_time": "2020-10-15T04:09:14.490555",
     "status": "completed"
    },
    "tags": []
   },
   "source": [
    "The training-set has 891 examples and 11 features including the target variable (\"Survived\"). 2 of the features are floats, 5 are integers and 5 are objects."
   ]
  },
  {
   "cell_type": "code",
   "execution_count": 4,
   "metadata": {
    "execution": {
     "iopub.execute_input": "2020-10-15T04:09:14.606998Z",
     "iopub.status.busy": "2020-10-15T04:09:14.606345Z",
     "iopub.status.idle": "2020-10-15T04:09:14.635233Z",
     "shell.execute_reply": "2020-10-15T04:09:14.634582Z"
    },
    "papermill": {
     "duration": 0.0744,
     "end_time": "2020-10-15T04:09:14.635372",
     "exception": false,
     "start_time": "2020-10-15T04:09:14.560972",
     "status": "completed"
    },
    "tags": []
   },
   "outputs": [
    {
     "data": {
      "text/html": [
       "<div>\n",
       "<style scoped>\n",
       "    .dataframe tbody tr th:only-of-type {\n",
       "        vertical-align: middle;\n",
       "    }\n",
       "\n",
       "    .dataframe tbody tr th {\n",
       "        vertical-align: top;\n",
       "    }\n",
       "\n",
       "    .dataframe thead th {\n",
       "        text-align: right;\n",
       "    }\n",
       "</style>\n",
       "<table border=\"1\" class=\"dataframe\">\n",
       "  <thead>\n",
       "    <tr style=\"text-align: right;\">\n",
       "      <th></th>\n",
       "      <th>PassengerId</th>\n",
       "      <th>Survived</th>\n",
       "      <th>Pclass</th>\n",
       "      <th>Age</th>\n",
       "      <th>SibSp</th>\n",
       "      <th>Parch</th>\n",
       "      <th>Fare</th>\n",
       "    </tr>\n",
       "  </thead>\n",
       "  <tbody>\n",
       "    <tr>\n",
       "      <th>count</th>\n",
       "      <td>891.000000</td>\n",
       "      <td>891.000000</td>\n",
       "      <td>891.000000</td>\n",
       "      <td>714.000000</td>\n",
       "      <td>891.000000</td>\n",
       "      <td>891.000000</td>\n",
       "      <td>891.000000</td>\n",
       "    </tr>\n",
       "    <tr>\n",
       "      <th>mean</th>\n",
       "      <td>446.000000</td>\n",
       "      <td>0.383838</td>\n",
       "      <td>2.308642</td>\n",
       "      <td>29.699118</td>\n",
       "      <td>0.523008</td>\n",
       "      <td>0.381594</td>\n",
       "      <td>32.204208</td>\n",
       "    </tr>\n",
       "    <tr>\n",
       "      <th>std</th>\n",
       "      <td>257.353842</td>\n",
       "      <td>0.486592</td>\n",
       "      <td>0.836071</td>\n",
       "      <td>14.526497</td>\n",
       "      <td>1.102743</td>\n",
       "      <td>0.806057</td>\n",
       "      <td>49.693429</td>\n",
       "    </tr>\n",
       "    <tr>\n",
       "      <th>min</th>\n",
       "      <td>1.000000</td>\n",
       "      <td>0.000000</td>\n",
       "      <td>1.000000</td>\n",
       "      <td>0.420000</td>\n",
       "      <td>0.000000</td>\n",
       "      <td>0.000000</td>\n",
       "      <td>0.000000</td>\n",
       "    </tr>\n",
       "    <tr>\n",
       "      <th>25%</th>\n",
       "      <td>223.500000</td>\n",
       "      <td>0.000000</td>\n",
       "      <td>2.000000</td>\n",
       "      <td>20.125000</td>\n",
       "      <td>0.000000</td>\n",
       "      <td>0.000000</td>\n",
       "      <td>7.910400</td>\n",
       "    </tr>\n",
       "    <tr>\n",
       "      <th>50%</th>\n",
       "      <td>446.000000</td>\n",
       "      <td>0.000000</td>\n",
       "      <td>3.000000</td>\n",
       "      <td>28.000000</td>\n",
       "      <td>0.000000</td>\n",
       "      <td>0.000000</td>\n",
       "      <td>14.454200</td>\n",
       "    </tr>\n",
       "    <tr>\n",
       "      <th>75%</th>\n",
       "      <td>668.500000</td>\n",
       "      <td>1.000000</td>\n",
       "      <td>3.000000</td>\n",
       "      <td>38.000000</td>\n",
       "      <td>1.000000</td>\n",
       "      <td>0.000000</td>\n",
       "      <td>31.000000</td>\n",
       "    </tr>\n",
       "    <tr>\n",
       "      <th>max</th>\n",
       "      <td>891.000000</td>\n",
       "      <td>1.000000</td>\n",
       "      <td>3.000000</td>\n",
       "      <td>80.000000</td>\n",
       "      <td>8.000000</td>\n",
       "      <td>6.000000</td>\n",
       "      <td>512.329200</td>\n",
       "    </tr>\n",
       "  </tbody>\n",
       "</table>\n",
       "</div>"
      ],
      "text/plain": [
       "       PassengerId    Survived      Pclass         Age       SibSp  \\\n",
       "count   891.000000  891.000000  891.000000  714.000000  891.000000   \n",
       "mean    446.000000    0.383838    2.308642   29.699118    0.523008   \n",
       "std     257.353842    0.486592    0.836071   14.526497    1.102743   \n",
       "min       1.000000    0.000000    1.000000    0.420000    0.000000   \n",
       "25%     223.500000    0.000000    2.000000   20.125000    0.000000   \n",
       "50%     446.000000    0.000000    3.000000   28.000000    0.000000   \n",
       "75%     668.500000    1.000000    3.000000   38.000000    1.000000   \n",
       "max     891.000000    1.000000    3.000000   80.000000    8.000000   \n",
       "\n",
       "            Parch        Fare  \n",
       "count  891.000000  891.000000  \n",
       "mean     0.381594   32.204208  \n",
       "std      0.806057   49.693429  \n",
       "min      0.000000    0.000000  \n",
       "25%      0.000000    7.910400  \n",
       "50%      0.000000   14.454200  \n",
       "75%      0.000000   31.000000  \n",
       "max      6.000000  512.329200  "
      ]
     },
     "execution_count": 4,
     "metadata": {},
     "output_type": "execute_result"
    }
   ],
   "source": [
    "titanic_train.describe()"
   ]
  },
  {
   "cell_type": "markdown",
   "metadata": {
    "papermill": {
     "duration": 0.036487,
     "end_time": "2020-10-15T04:09:14.710191",
     "exception": false,
     "start_time": "2020-10-15T04:09:14.673704",
     "status": "completed"
    },
    "tags": []
   },
   "source": [
    "The above function gives us the count, mean and standard deviation for each of the feature variables. We can make the following observations:\n",
    "* approximately 38% of the passengers on the ship did survive.\n",
    "* the average Pclass 2.3 indicates that most of the passengers which were onboard were of high economic status\n",
    "* the age of the passengers varies from 0 to 80, which tells us that passengers of all ages were travelling\n",
    "* the fare seems to have a high standard deviation, we find that the fare for some passengers is 0, while for some it is as high as above 500 dollars.\n",
    "\n",
    "We see that 3 of our features could not be displayed in the describe table above, let us try to explore them individually."
   ]
  },
  {
   "cell_type": "code",
   "execution_count": 5,
   "metadata": {
    "execution": {
     "iopub.execute_input": "2020-10-15T04:09:14.798480Z",
     "iopub.status.busy": "2020-10-15T04:09:14.790115Z",
     "iopub.status.idle": "2020-10-15T04:09:14.804051Z",
     "shell.execute_reply": "2020-10-15T04:09:14.802644Z"
    },
    "papermill": {
     "duration": 0.057456,
     "end_time": "2020-10-15T04:09:14.804278",
     "exception": false,
     "start_time": "2020-10-15T04:09:14.746822",
     "status": "completed"
    },
    "tags": []
   },
   "outputs": [
    {
     "name": "stdout",
     "output_type": "stream",
     "text": [
      "Cabin: \n",
      " count     204\n",
      "unique    147\n",
      "top        G6\n",
      "freq        4\n",
      "Name: Cabin, dtype: object\n",
      "Sex: \n",
      " count      891\n",
      "unique       2\n",
      "top       male\n",
      "freq       577\n",
      "Name: Sex, dtype: object\n",
      "Embarked: \n",
      " count     889\n",
      "unique      3\n",
      "top         S\n",
      "freq      644\n",
      "Name: Embarked, dtype: object\n"
     ]
    }
   ],
   "source": [
    "print(\"Cabin:\",\"\\n\", titanic_train['Cabin'].describe())\n",
    "print(\"Sex:\",\"\\n\",titanic_train['Sex'].describe())\n",
    "print(\"Embarked:\",\"\\n\",titanic_train['Embarked'].describe())"
   ]
  },
  {
   "cell_type": "markdown",
   "metadata": {
    "papermill": {
     "duration": 0.036914,
     "end_time": "2020-10-15T04:09:14.879490",
     "exception": false,
     "start_time": "2020-10-15T04:09:14.842576",
     "status": "completed"
    },
    "tags": []
   },
   "source": [
    "We find that there are 147 unique cabin values, 3 unique embarked values.\n",
    "We see that 577 males are onboard and remaining are females."
   ]
  },
  {
   "cell_type": "markdown",
   "metadata": {
    "papermill": {
     "duration": 0.036143,
     "end_time": "2020-10-15T04:09:14.953524",
     "exception": false,
     "start_time": "2020-10-15T04:09:14.917381",
     "status": "completed"
    },
    "tags": []
   },
   "source": [
    "Let us Check for any missing values in the training data set:"
   ]
  },
  {
   "cell_type": "code",
   "execution_count": 6,
   "metadata": {
    "execution": {
     "iopub.execute_input": "2020-10-15T04:09:15.035335Z",
     "iopub.status.busy": "2020-10-15T04:09:15.034402Z",
     "iopub.status.idle": "2020-10-15T04:09:15.038504Z",
     "shell.execute_reply": "2020-10-15T04:09:15.038953Z"
    },
    "papermill": {
     "duration": 0.049402,
     "end_time": "2020-10-15T04:09:15.039103",
     "exception": false,
     "start_time": "2020-10-15T04:09:14.989701",
     "status": "completed"
    },
    "tags": []
   },
   "outputs": [
    {
     "data": {
      "text/plain": [
       "PassengerId      0\n",
       "Survived         0\n",
       "Pclass           0\n",
       "Name             0\n",
       "Sex              0\n",
       "Age            177\n",
       "SibSp            0\n",
       "Parch            0\n",
       "Ticket           0\n",
       "Fare             0\n",
       "Cabin          687\n",
       "Embarked         2\n",
       "dtype: int64"
      ]
     },
     "execution_count": 6,
     "metadata": {},
     "output_type": "execute_result"
    }
   ],
   "source": [
    "titanic_train.isnull().sum()"
   ]
  },
  {
   "cell_type": "markdown",
   "metadata": {
    "papermill": {
     "duration": 0.03658,
     "end_time": "2020-10-15T04:09:15.112556",
     "exception": false,
     "start_time": "2020-10-15T04:09:15.075976",
     "status": "completed"
    },
    "tags": []
   },
   "source": [
    "We find that, some data values for 3 of the features are missing. We will deal with them in the data preprocessing stage."
   ]
  },
  {
   "cell_type": "markdown",
   "metadata": {
    "papermill": {
     "duration": 0.038185,
     "end_time": "2020-10-15T04:09:15.188916",
     "exception": false,
     "start_time": "2020-10-15T04:09:15.150731",
     "status": "completed"
    },
    "tags": []
   },
   "source": [
    "# Data Preprocessing:\n",
    "\n",
    "We see that the age feature has a high standard deviation, hence let us try to find categories in the data so that we can assign appropriate age to each of the missing values in the age column.\n",
    "\n",
    "The name column suggests that the name prefixes have 4 categories:\n",
    "1. Miss\n",
    "2. Master\n",
    "3. Mrs.\n",
    "4. Mr.\n",
    "Let's try and find the average age of each of these categories."
   ]
  },
  {
   "cell_type": "code",
   "execution_count": 7,
   "metadata": {
    "execution": {
     "iopub.execute_input": "2020-10-15T04:09:15.277866Z",
     "iopub.status.busy": "2020-10-15T04:09:15.277105Z",
     "iopub.status.idle": "2020-10-15T04:09:15.281695Z",
     "shell.execute_reply": "2020-10-15T04:09:15.280966Z"
    },
    "papermill": {
     "duration": 0.055822,
     "end_time": "2020-10-15T04:09:15.281819",
     "exception": false,
     "start_time": "2020-10-15T04:09:15.225997",
     "status": "completed"
    },
    "tags": []
   },
   "outputs": [
    {
     "name": "stdout",
     "output_type": "stream",
     "text": [
      "Mean Age for Young Males:  4.574166666666667\n",
      "Mean Age for Young Females:  21.773972602739725\n",
      "Mean Age for Adult Males:  32.368090452261306\n",
      "Mean Age for Adult Females:  35.642857142857146\n"
     ]
    }
   ],
   "source": [
    "Young_M= titanic_train['Name'].str.contains('Master', regex= True, na=False)\n",
    "Young_F= titanic_train['Name'].str.contains('Miss', regex= True, na=False)\n",
    "Adult_M= titanic_train['Name'].str.contains('Mr\\.', regex= True, na=False)\n",
    "Adult_F= titanic_train['Name'].str.contains('Mrs', regex= True, na=False)\n",
    "\n",
    "print(\"Mean Age for Young Males: \",titanic_train.loc[Young_M,'Age'].mean())\n",
    "print(\"Mean Age for Young Females: \",titanic_train.loc[Young_F,'Age'].mean())\n",
    "print(\"Mean Age for Adult Males: \",titanic_train.loc[Adult_M,'Age'].mean())\n",
    "print(\"Mean Age for Adult Females: \",titanic_train.loc[Adult_F,'Age'].mean())\n"
   ]
  },
  {
   "cell_type": "markdown",
   "metadata": {
    "papermill": {
     "duration": 0.037531,
     "end_time": "2020-10-15T04:09:15.356562",
     "exception": false,
     "start_time": "2020-10-15T04:09:15.319031",
     "status": "completed"
    },
    "tags": []
   },
   "source": [
    "We see that the mean age for different groups is significantly different. Hence, it is appropriate to fill the null values for those passengers using the mean of the corresponding group.\n",
    "We fill the remaining null values using \"bfill\" and \"ffill\" methods, bfill fills the preceding non null value in the same column and ffill replaces the null value with the next non null value in the column.\n",
    "\n",
    "Note: I have used bfill method first and then ffill just to ensure that for data point having no preceding non-null value, the next non-null value is filled and no data point remains null."
   ]
  },
  {
   "cell_type": "code",
   "execution_count": 8,
   "metadata": {
    "execution": {
     "iopub.execute_input": "2020-10-15T04:09:15.452463Z",
     "iopub.status.busy": "2020-10-15T04:09:15.450370Z",
     "iopub.status.idle": "2020-10-15T04:09:15.461381Z",
     "shell.execute_reply": "2020-10-15T04:09:15.460557Z"
    },
    "papermill": {
     "duration": 0.067644,
     "end_time": "2020-10-15T04:09:15.461522",
     "exception": false,
     "start_time": "2020-10-15T04:09:15.393878",
     "status": "completed"
    },
    "tags": []
   },
   "outputs": [],
   "source": [
    "titanic_train.loc[Young_M,'Age'] = titanic_train.loc[Young_M,'Age'].fillna(titanic_train.loc[Young_M,'Age'].mean())\n",
    "titanic_train.loc[Young_F,'Age'] = titanic_train.loc[Young_F,'Age'].fillna(titanic_train.loc[Young_F,'Age'].mean())\n",
    "titanic_train.loc[Adult_M,'Age'] = titanic_train.loc[Adult_M,'Age'].fillna(titanic_train.loc[Adult_M,'Age'].mean())\n",
    "titanic_train.loc[Adult_F,'Age'] = titanic_train.loc[Adult_F,'Age'].fillna(titanic_train.loc[Adult_F,'Age'].mean())\n",
    "\n",
    "titanic_train=titanic_train.fillna(method=\"bfill\")\n",
    "titanic_train=titanic_train.fillna(method=\"ffill\")"
   ]
  },
  {
   "cell_type": "markdown",
   "metadata": {
    "papermill": {
     "duration": 0.037134,
     "end_time": "2020-10-15T04:09:15.536163",
     "exception": false,
     "start_time": "2020-10-15T04:09:15.499029",
     "status": "completed"
    },
    "tags": []
   },
   "source": [
    "Let's see if we have any null values remaining in our training data set."
   ]
  },
  {
   "cell_type": "code",
   "execution_count": 9,
   "metadata": {
    "execution": {
     "iopub.execute_input": "2020-10-15T04:09:15.619618Z",
     "iopub.status.busy": "2020-10-15T04:09:15.618762Z",
     "iopub.status.idle": "2020-10-15T04:09:15.623229Z",
     "shell.execute_reply": "2020-10-15T04:09:15.622614Z"
    },
    "papermill": {
     "duration": 0.050299,
     "end_time": "2020-10-15T04:09:15.623365",
     "exception": false,
     "start_time": "2020-10-15T04:09:15.573066",
     "status": "completed"
    },
    "tags": []
   },
   "outputs": [
    {
     "data": {
      "text/plain": [
       "PassengerId    0\n",
       "Survived       0\n",
       "Pclass         0\n",
       "Name           0\n",
       "Sex            0\n",
       "Age            0\n",
       "SibSp          0\n",
       "Parch          0\n",
       "Ticket         0\n",
       "Fare           0\n",
       "Cabin          0\n",
       "Embarked       0\n",
       "dtype: int64"
      ]
     },
     "execution_count": 9,
     "metadata": {},
     "output_type": "execute_result"
    }
   ],
   "source": [
    "titanic_train.isnull().sum()"
   ]
  },
  {
   "cell_type": "code",
   "execution_count": 10,
   "metadata": {
    "execution": {
     "iopub.execute_input": "2020-10-15T04:09:15.717442Z",
     "iopub.status.busy": "2020-10-15T04:09:15.716363Z",
     "iopub.status.idle": "2020-10-15T04:09:15.720719Z",
     "shell.execute_reply": "2020-10-15T04:09:15.720073Z"
    },
    "papermill": {
     "duration": 0.05937,
     "end_time": "2020-10-15T04:09:15.720835",
     "exception": false,
     "start_time": "2020-10-15T04:09:15.661465",
     "status": "completed"
    },
    "tags": []
   },
   "outputs": [
    {
     "data": {
      "text/html": [
       "<div>\n",
       "<style scoped>\n",
       "    .dataframe tbody tr th:only-of-type {\n",
       "        vertical-align: middle;\n",
       "    }\n",
       "\n",
       "    .dataframe tbody tr th {\n",
       "        vertical-align: top;\n",
       "    }\n",
       "\n",
       "    .dataframe thead th {\n",
       "        text-align: right;\n",
       "    }\n",
       "</style>\n",
       "<table border=\"1\" class=\"dataframe\">\n",
       "  <thead>\n",
       "    <tr style=\"text-align: right;\">\n",
       "      <th></th>\n",
       "      <th>PassengerId</th>\n",
       "      <th>Survived</th>\n",
       "      <th>Pclass</th>\n",
       "      <th>Name</th>\n",
       "      <th>Sex</th>\n",
       "      <th>Age</th>\n",
       "      <th>SibSp</th>\n",
       "      <th>Parch</th>\n",
       "      <th>Ticket</th>\n",
       "      <th>Fare</th>\n",
       "      <th>Cabin</th>\n",
       "      <th>Embarked</th>\n",
       "    </tr>\n",
       "  </thead>\n",
       "  <tbody>\n",
       "    <tr>\n",
       "      <th>0</th>\n",
       "      <td>1</td>\n",
       "      <td>0</td>\n",
       "      <td>3</td>\n",
       "      <td>Braund, Mr. Owen Harris</td>\n",
       "      <td>male</td>\n",
       "      <td>22.0</td>\n",
       "      <td>1</td>\n",
       "      <td>0</td>\n",
       "      <td>A/5 21171</td>\n",
       "      <td>7.2500</td>\n",
       "      <td>C85</td>\n",
       "      <td>S</td>\n",
       "    </tr>\n",
       "    <tr>\n",
       "      <th>1</th>\n",
       "      <td>2</td>\n",
       "      <td>1</td>\n",
       "      <td>1</td>\n",
       "      <td>Cumings, Mrs. John Bradley (Florence Briggs Th...</td>\n",
       "      <td>female</td>\n",
       "      <td>38.0</td>\n",
       "      <td>1</td>\n",
       "      <td>0</td>\n",
       "      <td>PC 17599</td>\n",
       "      <td>71.2833</td>\n",
       "      <td>C85</td>\n",
       "      <td>C</td>\n",
       "    </tr>\n",
       "    <tr>\n",
       "      <th>2</th>\n",
       "      <td>3</td>\n",
       "      <td>1</td>\n",
       "      <td>3</td>\n",
       "      <td>Heikkinen, Miss. Laina</td>\n",
       "      <td>female</td>\n",
       "      <td>26.0</td>\n",
       "      <td>0</td>\n",
       "      <td>0</td>\n",
       "      <td>STON/O2. 3101282</td>\n",
       "      <td>7.9250</td>\n",
       "      <td>C123</td>\n",
       "      <td>S</td>\n",
       "    </tr>\n",
       "    <tr>\n",
       "      <th>3</th>\n",
       "      <td>4</td>\n",
       "      <td>1</td>\n",
       "      <td>1</td>\n",
       "      <td>Futrelle, Mrs. Jacques Heath (Lily May Peel)</td>\n",
       "      <td>female</td>\n",
       "      <td>35.0</td>\n",
       "      <td>1</td>\n",
       "      <td>0</td>\n",
       "      <td>113803</td>\n",
       "      <td>53.1000</td>\n",
       "      <td>C123</td>\n",
       "      <td>S</td>\n",
       "    </tr>\n",
       "    <tr>\n",
       "      <th>4</th>\n",
       "      <td>5</td>\n",
       "      <td>0</td>\n",
       "      <td>3</td>\n",
       "      <td>Allen, Mr. William Henry</td>\n",
       "      <td>male</td>\n",
       "      <td>35.0</td>\n",
       "      <td>0</td>\n",
       "      <td>0</td>\n",
       "      <td>373450</td>\n",
       "      <td>8.0500</td>\n",
       "      <td>E46</td>\n",
       "      <td>S</td>\n",
       "    </tr>\n",
       "  </tbody>\n",
       "</table>\n",
       "</div>"
      ],
      "text/plain": [
       "   PassengerId  Survived  Pclass  \\\n",
       "0            1         0       3   \n",
       "1            2         1       1   \n",
       "2            3         1       3   \n",
       "3            4         1       1   \n",
       "4            5         0       3   \n",
       "\n",
       "                                                Name     Sex   Age  SibSp  \\\n",
       "0                            Braund, Mr. Owen Harris    male  22.0      1   \n",
       "1  Cumings, Mrs. John Bradley (Florence Briggs Th...  female  38.0      1   \n",
       "2                             Heikkinen, Miss. Laina  female  26.0      0   \n",
       "3       Futrelle, Mrs. Jacques Heath (Lily May Peel)  female  35.0      1   \n",
       "4                           Allen, Mr. William Henry    male  35.0      0   \n",
       "\n",
       "   Parch            Ticket     Fare Cabin Embarked  \n",
       "0      0         A/5 21171   7.2500   C85        S  \n",
       "1      0          PC 17599  71.2833   C85        C  \n",
       "2      0  STON/O2. 3101282   7.9250  C123        S  \n",
       "3      0            113803  53.1000  C123        S  \n",
       "4      0            373450   8.0500   E46        S  "
      ]
     },
     "execution_count": 10,
     "metadata": {},
     "output_type": "execute_result"
    }
   ],
   "source": [
    "titanic_train.head()"
   ]
  },
  {
   "cell_type": "markdown",
   "metadata": {
    "papermill": {
     "duration": 0.037792,
     "end_time": "2020-10-15T04:09:15.799630",
     "exception": false,
     "start_time": "2020-10-15T04:09:15.761838",
     "status": "completed"
    },
    "tags": []
   },
   "source": [
    "Voila! No null values remain. \n",
    "Let us follow the same procedure for the testing data set:"
   ]
  },
  {
   "cell_type": "code",
   "execution_count": 11,
   "metadata": {
    "execution": {
     "iopub.execute_input": "2020-10-15T04:09:15.898074Z",
     "iopub.status.busy": "2020-10-15T04:09:15.884819Z",
     "iopub.status.idle": "2020-10-15T04:09:15.925452Z",
     "shell.execute_reply": "2020-10-15T04:09:15.924530Z"
    },
    "papermill": {
     "duration": 0.087728,
     "end_time": "2020-10-15T04:09:15.925590",
     "exception": false,
     "start_time": "2020-10-15T04:09:15.837862",
     "status": "completed"
    },
    "tags": []
   },
   "outputs": [
    {
     "name": "stdout",
     "output_type": "stream",
     "text": [
      "Mean Age for Young Males:  7.406470588235294\n",
      "Mean Age for Young Females:  21.774843750000002\n",
      "Mean Age for Adult Males:  32.0\n",
      "Mean Age for Adult Females:  38.903225806451616\n"
     ]
    },
    {
     "data": {
      "text/html": [
       "<div>\n",
       "<style scoped>\n",
       "    .dataframe tbody tr th:only-of-type {\n",
       "        vertical-align: middle;\n",
       "    }\n",
       "\n",
       "    .dataframe tbody tr th {\n",
       "        vertical-align: top;\n",
       "    }\n",
       "\n",
       "    .dataframe thead th {\n",
       "        text-align: right;\n",
       "    }\n",
       "</style>\n",
       "<table border=\"1\" class=\"dataframe\">\n",
       "  <thead>\n",
       "    <tr style=\"text-align: right;\">\n",
       "      <th></th>\n",
       "      <th>PassengerId</th>\n",
       "      <th>Pclass</th>\n",
       "      <th>Name</th>\n",
       "      <th>Sex</th>\n",
       "      <th>Age</th>\n",
       "      <th>SibSp</th>\n",
       "      <th>Parch</th>\n",
       "      <th>Ticket</th>\n",
       "      <th>Fare</th>\n",
       "      <th>Cabin</th>\n",
       "      <th>Embarked</th>\n",
       "    </tr>\n",
       "  </thead>\n",
       "  <tbody>\n",
       "    <tr>\n",
       "      <th>0</th>\n",
       "      <td>892</td>\n",
       "      <td>3</td>\n",
       "      <td>Kelly, Mr. James</td>\n",
       "      <td>male</td>\n",
       "      <td>34.5</td>\n",
       "      <td>0</td>\n",
       "      <td>0</td>\n",
       "      <td>330911</td>\n",
       "      <td>7.8292</td>\n",
       "      <td>B45</td>\n",
       "      <td>Q</td>\n",
       "    </tr>\n",
       "    <tr>\n",
       "      <th>1</th>\n",
       "      <td>893</td>\n",
       "      <td>3</td>\n",
       "      <td>Wilkes, Mrs. James (Ellen Needs)</td>\n",
       "      <td>female</td>\n",
       "      <td>47.0</td>\n",
       "      <td>1</td>\n",
       "      <td>0</td>\n",
       "      <td>363272</td>\n",
       "      <td>7.0000</td>\n",
       "      <td>B45</td>\n",
       "      <td>S</td>\n",
       "    </tr>\n",
       "    <tr>\n",
       "      <th>2</th>\n",
       "      <td>894</td>\n",
       "      <td>2</td>\n",
       "      <td>Myles, Mr. Thomas Francis</td>\n",
       "      <td>male</td>\n",
       "      <td>62.0</td>\n",
       "      <td>0</td>\n",
       "      <td>0</td>\n",
       "      <td>240276</td>\n",
       "      <td>9.6875</td>\n",
       "      <td>B45</td>\n",
       "      <td>Q</td>\n",
       "    </tr>\n",
       "    <tr>\n",
       "      <th>3</th>\n",
       "      <td>895</td>\n",
       "      <td>3</td>\n",
       "      <td>Wirz, Mr. Albert</td>\n",
       "      <td>male</td>\n",
       "      <td>27.0</td>\n",
       "      <td>0</td>\n",
       "      <td>0</td>\n",
       "      <td>315154</td>\n",
       "      <td>8.6625</td>\n",
       "      <td>B45</td>\n",
       "      <td>S</td>\n",
       "    </tr>\n",
       "    <tr>\n",
       "      <th>4</th>\n",
       "      <td>896</td>\n",
       "      <td>3</td>\n",
       "      <td>Hirvonen, Mrs. Alexander (Helga E Lindqvist)</td>\n",
       "      <td>female</td>\n",
       "      <td>22.0</td>\n",
       "      <td>1</td>\n",
       "      <td>1</td>\n",
       "      <td>3101298</td>\n",
       "      <td>12.2875</td>\n",
       "      <td>B45</td>\n",
       "      <td>S</td>\n",
       "    </tr>\n",
       "  </tbody>\n",
       "</table>\n",
       "</div>"
      ],
      "text/plain": [
       "   PassengerId  Pclass                                          Name     Sex  \\\n",
       "0          892       3                              Kelly, Mr. James    male   \n",
       "1          893       3              Wilkes, Mrs. James (Ellen Needs)  female   \n",
       "2          894       2                     Myles, Mr. Thomas Francis    male   \n",
       "3          895       3                              Wirz, Mr. Albert    male   \n",
       "4          896       3  Hirvonen, Mrs. Alexander (Helga E Lindqvist)  female   \n",
       "\n",
       "    Age  SibSp  Parch   Ticket     Fare Cabin Embarked  \n",
       "0  34.5      0      0   330911   7.8292   B45        Q  \n",
       "1  47.0      1      0   363272   7.0000   B45        S  \n",
       "2  62.0      0      0   240276   9.6875   B45        Q  \n",
       "3  27.0      0      0   315154   8.6625   B45        S  \n",
       "4  22.0      1      1  3101298  12.2875   B45        S  "
      ]
     },
     "execution_count": 11,
     "metadata": {},
     "output_type": "execute_result"
    }
   ],
   "source": [
    "Young_M= titanic_test['Name'].str.contains('Master', regex= True, na=False)\n",
    "Young_F= titanic_test['Name'].str.contains('Miss', regex= True, na=False)\n",
    "Adult_M= titanic_test['Name'].str.contains('Mr\\.', regex= True, na=False)\n",
    "Adult_F= titanic_test['Name'].str.contains('Mrs', regex= True, na=False)\n",
    "\n",
    "print(\"Mean Age for Young Males: \",titanic_test.loc[Young_M,'Age'].mean())\n",
    "print(\"Mean Age for Young Females: \",titanic_test.loc[Young_F,'Age'].mean())\n",
    "print(\"Mean Age for Adult Males: \",titanic_test.loc[Adult_M,'Age'].mean())\n",
    "print(\"Mean Age for Adult Females: \",titanic_test.loc[Adult_F,'Age'].mean())\n",
    "\n",
    "titanic_test.loc[Young_M,'Age'] = titanic_test.loc[Young_M,'Age'].fillna(titanic_test.loc[Young_M,'Age'].mean())\n",
    "titanic_test.loc[Young_F,'Age'] = titanic_test.loc[Young_F,'Age'].fillna(titanic_test.loc[Young_F,'Age'].mean())\n",
    "titanic_test.loc[Adult_M,'Age'] = titanic_test.loc[Adult_M,'Age'].fillna(titanic_test.loc[Adult_M,'Age'].mean())\n",
    "titanic_test.loc[Adult_F,'Age'] = titanic_test.loc[Adult_F,'Age'].fillna(titanic_test.loc[Adult_F,'Age'].mean())\n",
    "\n",
    "titanic_test=titanic_test.fillna(method=\"bfill\")\n",
    "titanic_test=titanic_test.fillna(method=\"ffill\")\n",
    "\n",
    "titanic_test.head()"
   ]
  },
  {
   "cell_type": "code",
   "execution_count": 12,
   "metadata": {
    "execution": {
     "iopub.execute_input": "2020-10-15T04:09:16.036734Z",
     "iopub.status.busy": "2020-10-15T04:09:16.035754Z",
     "iopub.status.idle": "2020-10-15T04:09:16.040950Z",
     "shell.execute_reply": "2020-10-15T04:09:16.040018Z"
    },
    "papermill": {
     "duration": 0.066574,
     "end_time": "2020-10-15T04:09:16.041120",
     "exception": false,
     "start_time": "2020-10-15T04:09:15.974546",
     "status": "completed"
    },
    "tags": []
   },
   "outputs": [
    {
     "data": {
      "text/plain": [
       "PassengerId    0\n",
       "Pclass         0\n",
       "Name           0\n",
       "Sex            0\n",
       "Age            0\n",
       "SibSp          0\n",
       "Parch          0\n",
       "Ticket         0\n",
       "Fare           0\n",
       "Cabin          0\n",
       "Embarked       0\n",
       "dtype: int64"
      ]
     },
     "execution_count": 12,
     "metadata": {},
     "output_type": "execute_result"
    }
   ],
   "source": [
    "titanic_test.isnull().sum()"
   ]
  },
  {
   "cell_type": "markdown",
   "metadata": {
    "papermill": {
     "duration": 0.039526,
     "end_time": "2020-10-15T04:09:16.127963",
     "exception": false,
     "start_time": "2020-10-15T04:09:16.088437",
     "status": "completed"
    },
    "tags": []
   },
   "source": [
    "Let's explore our data further:"
   ]
  },
  {
   "cell_type": "code",
   "execution_count": 13,
   "metadata": {
    "execution": {
     "iopub.execute_input": "2020-10-15T04:09:16.217223Z",
     "iopub.status.busy": "2020-10-15T04:09:16.216195Z",
     "iopub.status.idle": "2020-10-15T04:09:16.220157Z",
     "shell.execute_reply": "2020-10-15T04:09:16.219655Z"
    },
    "papermill": {
     "duration": 0.051979,
     "end_time": "2020-10-15T04:09:16.220303",
     "exception": false,
     "start_time": "2020-10-15T04:09:16.168324",
     "status": "completed"
    },
    "tags": []
   },
   "outputs": [
    {
     "data": {
      "text/plain": [
       "0    549\n",
       "1    342\n",
       "Name: Survived, dtype: int64"
      ]
     },
     "execution_count": 13,
     "metadata": {},
     "output_type": "execute_result"
    }
   ],
   "source": [
    "titanic_train['Survived'].value_counts()\n"
   ]
  },
  {
   "cell_type": "markdown",
   "metadata": {
    "papermill": {
     "duration": 0.039726,
     "end_time": "2020-10-15T04:09:16.300491",
     "exception": false,
     "start_time": "2020-10-15T04:09:16.260765",
     "status": "completed"
    },
    "tags": []
   },
   "source": [
    "We see that the training data set has 342 survivors and 549 fatalities."
   ]
  },
  {
   "cell_type": "markdown",
   "metadata": {
    "papermill": {
     "duration": 0.040218,
     "end_time": "2020-10-15T04:09:16.381853",
     "exception": false,
     "start_time": "2020-10-15T04:09:16.341635",
     "status": "completed"
    },
    "tags": []
   },
   "source": [
    "Let's see gender wise survival rate:"
   ]
  },
  {
   "cell_type": "code",
   "execution_count": 14,
   "metadata": {
    "execution": {
     "iopub.execute_input": "2020-10-15T04:09:16.471221Z",
     "iopub.status.busy": "2020-10-15T04:09:16.470297Z",
     "iopub.status.idle": "2020-10-15T04:09:16.474351Z",
     "shell.execute_reply": "2020-10-15T04:09:16.473821Z"
    },
    "papermill": {
     "duration": 0.052383,
     "end_time": "2020-10-15T04:09:16.474489",
     "exception": false,
     "start_time": "2020-10-15T04:09:16.422106",
     "status": "completed"
    },
    "tags": []
   },
   "outputs": [
    {
     "data": {
      "text/plain": [
       "0.7420382165605095"
      ]
     },
     "execution_count": 14,
     "metadata": {},
     "output_type": "execute_result"
    }
   ],
   "source": [
    "females = titanic_train.loc[titanic_train.Sex == 'female'][\"Survived\"]\n",
    "survived_F = sum(females)/len(females)\n",
    "survived_F\n"
   ]
  },
  {
   "cell_type": "code",
   "execution_count": 15,
   "metadata": {
    "execution": {
     "iopub.execute_input": "2020-10-15T04:09:16.563285Z",
     "iopub.status.busy": "2020-10-15T04:09:16.562601Z",
     "iopub.status.idle": "2020-10-15T04:09:16.567167Z",
     "shell.execute_reply": "2020-10-15T04:09:16.566553Z"
    },
    "papermill": {
     "duration": 0.05215,
     "end_time": "2020-10-15T04:09:16.567313",
     "exception": false,
     "start_time": "2020-10-15T04:09:16.515163",
     "status": "completed"
    },
    "tags": []
   },
   "outputs": [
    {
     "data": {
      "text/plain": [
       "0.18890814558058924"
      ]
     },
     "execution_count": 15,
     "metadata": {},
     "output_type": "execute_result"
    }
   ],
   "source": [
    "males = titanic_train.loc[titanic_train.Sex == 'male'][\"Survived\"]\n",
    "survived_M = sum(males)/len(males)\n",
    "survived_M"
   ]
  },
  {
   "cell_type": "markdown",
   "metadata": {
    "papermill": {
     "duration": 0.041107,
     "end_time": "2020-10-15T04:09:16.649127",
     "exception": false,
     "start_time": "2020-10-15T04:09:16.608020",
     "status": "completed"
    },
    "tags": []
   },
   "source": [
    "So we see that 74% of the women have survived, and only 19% of the males have survived, the difference is quite huge."
   ]
  },
  {
   "cell_type": "markdown",
   "metadata": {
    "papermill": {
     "duration": 0.040471,
     "end_time": "2020-10-15T04:09:16.731228",
     "exception": false,
     "start_time": "2020-10-15T04:09:16.690757",
     "status": "completed"
    },
    "tags": []
   },
   "source": [
    "# Data Vizualization:"
   ]
  },
  {
   "cell_type": "markdown",
   "metadata": {
    "papermill": {
     "duration": 0.040352,
     "end_time": "2020-10-15T04:09:16.813061",
     "exception": false,
     "start_time": "2020-10-15T04:09:16.772709",
     "status": "completed"
    },
    "tags": []
   },
   "source": [
    "Survival numbers for males and females:"
   ]
  },
  {
   "cell_type": "code",
   "execution_count": 16,
   "metadata": {
    "execution": {
     "iopub.execute_input": "2020-10-15T04:09:16.910027Z",
     "iopub.status.busy": "2020-10-15T04:09:16.904760Z",
     "iopub.status.idle": "2020-10-15T04:09:17.103520Z",
     "shell.execute_reply": "2020-10-15T04:09:17.102838Z"
    },
    "papermill": {
     "duration": 0.249804,
     "end_time": "2020-10-15T04:09:17.103640",
     "exception": false,
     "start_time": "2020-10-15T04:09:16.853836",
     "status": "completed"
    },
    "tags": []
   },
   "outputs": [
    {
     "data": {
      "image/png": "[encoded data removed]",
      "text/plain": [
       "<Figure size 432x288 with 1 Axes>"
      ]
     },
     "metadata": {
      "needs_background": "light"
     },
     "output_type": "display_data"
    }
   ],
   "source": [
    "sur_sex = sns.countplot(x='Survived',hue='Sex',data=titanic_train,palette='CMRmap_r')\n",
    "sur_sex.set_xticklabels(sur_sex.get_xticklabels(),rotation=90)\n",
    "for p in sur_sex.patches:\n",
    "    height = p.get_height()\n",
    "    sur_sex.text(p.get_x()+p.get_width()/2., height + 0.1,height ,ha=\"center\")\n",
    "sns.set(rc={'figure.figsize':(8,6)})"
   ]
  },
  {
   "cell_type": "markdown",
   "metadata": {
    "papermill": {
     "duration": 0.08973,
     "end_time": "2020-10-15T04:09:17.236023",
     "exception": false,
     "start_time": "2020-10-15T04:09:17.146293",
     "status": "completed"
    },
    "tags": []
   },
   "source": [
    "The numbers confirm the survival rates calculated above.\n",
    "\n",
    "Survival numbers for each of the 3 passenger classes:"
   ]
  },
  {
   "cell_type": "code",
   "execution_count": 17,
   "metadata": {
    "execution": {
     "iopub.execute_input": "2020-10-15T04:09:17.328905Z",
     "iopub.status.busy": "2020-10-15T04:09:17.328143Z",
     "iopub.status.idle": "2020-10-15T04:09:17.508455Z",
     "shell.execute_reply": "2020-10-15T04:09:17.507775Z"
    },
    "papermill": {
     "duration": 0.230998,
     "end_time": "2020-10-15T04:09:17.508572",
     "exception": false,
     "start_time": "2020-10-15T04:09:17.277574",
     "status": "completed"
    },
    "tags": []
   },
   "outputs": [
    {
     "data": {
      "image/png": "[encoded data removed]",
      "text/plain": [
       "<Figure size 576x432 with 1 Axes>"
      ]
     },
     "metadata": {},
     "output_type": "display_data"
    }
   ],
   "source": [
    "sur_pclass = sns.countplot(x='Survived',hue='Pclass',data=titanic_train,palette='ocean')\n",
    "sur_pclass.set_xticklabels(sur_pclass.get_xticklabels(),rotation=90)\n",
    "for p in sur_pclass.patches:\n",
    "    height = p.get_height()\n",
    "    sur_pclass.text(p.get_x()+p.get_width()/2., height + 0.1,height ,ha=\"center\")\n",
    "sns.set(rc={'figure.figsize':(8,6)})"
   ]
  },
  {
   "cell_type": "markdown",
   "metadata": {
    "papermill": {
     "duration": 0.042488,
     "end_time": "2020-10-15T04:09:17.593383",
     "exception": false,
     "start_time": "2020-10-15T04:09:17.550895",
     "status": "completed"
    },
    "tags": []
   },
   "source": [
    "It can be seen that passengers travelling in third class, lower income status have experiend the most fatalities, followed by the second class and the first class or the rich passengers. It is not surprising, you see money matters everywhere *****sighs*****"
   ]
  },
  {
   "cell_type": "markdown",
   "metadata": {
    "papermill": {
     "duration": 0.042875,
     "end_time": "2020-10-15T04:09:17.678946",
     "exception": false,
     "start_time": "2020-10-15T04:09:17.636071",
     "status": "completed"
    },
    "tags": []
   },
   "source": [
    "Let us survival numbers based on the place where the passengers embarked:"
   ]
  },
  {
   "cell_type": "code",
   "execution_count": 18,
   "metadata": {
    "execution": {
     "iopub.execute_input": "2020-10-15T04:09:17.773913Z",
     "iopub.status.busy": "2020-10-15T04:09:17.773113Z",
     "iopub.status.idle": "2020-10-15T04:09:17.949927Z",
     "shell.execute_reply": "2020-10-15T04:09:17.949139Z"
    },
    "papermill": {
     "duration": 0.228254,
     "end_time": "2020-10-15T04:09:17.950054",
     "exception": false,
     "start_time": "2020-10-15T04:09:17.721800",
     "status": "completed"
    },
    "tags": []
   },
   "outputs": [
    {
     "data": {
      "image/png": "[encoded data removed]",
      "text/plain": [
       "<Figure size 576x432 with 1 Axes>"
      ]
     },
     "metadata": {},
     "output_type": "display_data"
    }
   ],
   "source": [
    "sur_embarked = sns.countplot(x='Survived',hue='Embarked',data=titanic_train,palette='spring')\n",
    "sur_embarked.set_xticklabels(sur_embarked.get_xticklabels(),rotation=90)\n",
    "for p in sur_embarked.patches:\n",
    "    height = p.get_height()\n",
    "    sur_embarked.text(p.get_x()+p.get_width()/2., height + 0.1,height ,ha=\"center\")\n",
    "sns.set(rc={'figure.figsize':(10,6)})"
   ]
  },
  {
   "cell_type": "markdown",
   "metadata": {
    "papermill": {
     "duration": 0.044222,
     "end_time": "2020-10-15T04:09:18.039074",
     "exception": false,
     "start_time": "2020-10-15T04:09:17.994852",
     "status": "completed"
    },
    "tags": []
   },
   "source": [
    "Here we can see that, the highest number of passenger embarked from Southampton, and have suffered a high rate of 66% fatalities. 44% of those embarked from Cherbourg did not survive and 61% of those embarked from Queensland died."
   ]
  },
  {
   "cell_type": "markdown",
   "metadata": {
    "papermill": {
     "duration": 0.044427,
     "end_time": "2020-10-15T04:09:18.129058",
     "exception": false,
     "start_time": "2020-10-15T04:09:18.084631",
     "status": "completed"
    },
    "tags": []
   },
   "source": [
    "We can define a new feature family using the Sibling and the Parents feature data as follows: "
   ]
  },
  {
   "cell_type": "code",
   "execution_count": 19,
   "metadata": {
    "execution": {
     "iopub.execute_input": "2020-10-15T04:09:18.229802Z",
     "iopub.status.busy": "2020-10-15T04:09:18.228993Z",
     "iopub.status.idle": "2020-10-15T04:09:18.490530Z",
     "shell.execute_reply": "2020-10-15T04:09:18.489823Z"
    },
    "papermill": {
     "duration": 0.316115,
     "end_time": "2020-10-15T04:09:18.490654",
     "exception": false,
     "start_time": "2020-10-15T04:09:18.174539",
     "status": "completed"
    },
    "tags": []
   },
   "outputs": [
    {
     "data": {
      "image/png": "[encoded data removed]",
      "text/plain": [
       "<Figure size 720x432 with 1 Axes>"
      ]
     },
     "metadata": {},
     "output_type": "display_data"
    }
   ],
   "source": [
    "titanic_train['family'] = titanic_train['SibSp'] + titanic_train['Parch'] + 1\n",
    "sur_embarked = sns.countplot(x='Survived',hue='family',data=titanic_train,palette='plasma')\n",
    "sur_embarked.set_xticklabels(sur_embarked.get_xticklabels(),rotation=90)\n",
    "for p in sur_embarked.patches:\n",
    "    height = p.get_height()\n",
    "    sur_embarked.text(p.get_x()+p.get_width()/2., height + 0.1,height ,ha=\"center\")\n",
    "sns.set(rc={'figure.figsize':(12,12)})"
   ]
  },
  {
   "cell_type": "markdown",
   "metadata": {
    "papermill": {
     "duration": 0.044201,
     "end_time": "2020-10-15T04:09:18.579091",
     "exception": false,
     "start_time": "2020-10-15T04:09:18.534890",
     "status": "completed"
    },
    "tags": []
   },
   "source": [
    "We see that approximately 60% of the passengers were travelling alone and 70% of them died, which is huge! It also suggests that families of size as high as 11 were onboard."
   ]
  },
  {
   "cell_type": "markdown",
   "metadata": {
    "papermill": {
     "duration": 0.044921,
     "end_time": "2020-10-15T04:09:18.668827",
     "exception": false,
     "start_time": "2020-10-15T04:09:18.623906",
     "status": "completed"
    },
    "tags": []
   },
   "source": [
    "Let us vizualize survival rate as per the variation in fare prices the passengers paid:"
   ]
  },
  {
   "cell_type": "code",
   "execution_count": 20,
   "metadata": {
    "execution": {
     "iopub.execute_input": "2020-10-15T04:09:18.780283Z",
     "iopub.status.busy": "2020-10-15T04:09:18.779614Z",
     "iopub.status.idle": "2020-10-15T04:09:18.938347Z",
     "shell.execute_reply": "2020-10-15T04:09:18.937628Z"
    },
    "papermill": {
     "duration": 0.225078,
     "end_time": "2020-10-15T04:09:18.938481",
     "exception": false,
     "start_time": "2020-10-15T04:09:18.713403",
     "status": "completed"
    },
    "tags": []
   },
   "outputs": [
    {
     "data": {
      "image/png": "[encoded data removed]",
      "text/plain": [
       "<Figure size 864x864 with 1 Axes>"
      ]
     },
     "metadata": {},
     "output_type": "display_data"
    }
   ],
   "source": [
    "sns.boxplot(x='Survived', y='Fare', data=titanic_train, palette='autumn' )\n",
    "sns.set(rc={'figure.figsize':(12,12)})"
   ]
  },
  {
   "cell_type": "markdown",
   "metadata": {
    "papermill": {
     "duration": 0.046372,
     "end_time": "2020-10-15T04:09:19.030489",
     "exception": false,
     "start_time": "2020-10-15T04:09:18.984117",
     "status": "completed"
    },
    "tags": []
   },
   "source": [
    "It seems that those who survived are the ones who has bought higher priced tickets on average as compared to those who did not survive. This aligns with our inference regarding the survival numbers for different passenger classes."
   ]
  },
  {
   "cell_type": "markdown",
   "metadata": {
    "papermill": {
     "duration": 0.047721,
     "end_time": "2020-10-15T04:09:19.124766",
     "exception": false,
     "start_time": "2020-10-15T04:09:19.077045",
     "status": "completed"
    },
    "tags": []
   },
   "source": [
    "Let us now vizualize the survival numbers for passengers as per their age:"
   ]
  },
  {
   "cell_type": "code",
   "execution_count": 21,
   "metadata": {
    "execution": {
     "iopub.execute_input": "2020-10-15T04:09:19.232890Z",
     "iopub.status.busy": "2020-10-15T04:09:19.229897Z",
     "iopub.status.idle": "2020-10-15T04:09:19.413766Z",
     "shell.execute_reply": "2020-10-15T04:09:19.413080Z"
    },
    "papermill": {
     "duration": 0.242881,
     "end_time": "2020-10-15T04:09:19.413918",
     "exception": false,
     "start_time": "2020-10-15T04:09:19.171037",
     "status": "completed"
    },
    "tags": []
   },
   "outputs": [
    {
     "data": {
      "image/png": "[encoded data removed]",
      "text/plain": [
       "<Figure size 864x864 with 1 Axes>"
      ]
     },
     "metadata": {},
     "output_type": "display_data"
    }
   ],
   "source": [
    "sns.boxplot(x='Survived', y='Age', data=titanic_train, palette='viridis' )\n",
    "sns.set(rc={'figure.figsize':(10,10)})"
   ]
  },
  {
   "cell_type": "markdown",
   "metadata": {
    "papermill": {
     "duration": 0.047119,
     "end_time": "2020-10-15T04:09:19.507708",
     "exception": false,
     "start_time": "2020-10-15T04:09:19.460589",
     "status": "completed"
    },
    "tags": []
   },
   "source": [
    "It can be seen that the death rate is higher for the higher age passengers on an average."
   ]
  },
  {
   "cell_type": "markdown",
   "metadata": {
    "papermill": {
     "duration": 0.046403,
     "end_time": "2020-10-15T04:09:19.600705",
     "exception": false,
     "start_time": "2020-10-15T04:09:19.554302",
     "status": "completed"
    },
    "tags": []
   },
   "source": [
    "# Correlation Plot:"
   ]
  },
  {
   "cell_type": "code",
   "execution_count": 22,
   "metadata": {
    "execution": {
     "iopub.execute_input": "2020-10-15T04:09:19.704720Z",
     "iopub.status.busy": "2020-10-15T04:09:19.702581Z",
     "iopub.status.idle": "2020-10-15T04:09:20.214988Z",
     "shell.execute_reply": "2020-10-15T04:09:20.214304Z"
    },
    "papermill": {
     "duration": 0.567458,
     "end_time": "2020-10-15T04:09:20.215109",
     "exception": false,
     "start_time": "2020-10-15T04:09:19.647651",
     "status": "completed"
    },
    "tags": []
   },
   "outputs": [
    {
     "data": {
      "text/plain": [
       "<matplotlib.axes._subplots.AxesSubplot at 0x7f265025ff90>"
      ]
     },
     "execution_count": 22,
     "metadata": {},
     "output_type": "execute_result"
    },
    {
     "data": {
      "image/png": "[encoded data removed]",
      "text/plain": [
       "<Figure size 720x720 with 2 Axes>"
      ]
     },
     "metadata": {},
     "output_type": "display_data"
    }
   ],
   "source": [
    "corr = titanic_train.corr()\n",
    "sns.heatmap(corr, annot=True)"
   ]
  },
  {
   "cell_type": "markdown",
   "metadata": {
    "papermill": {
     "duration": 0.048416,
     "end_time": "2020-10-15T04:09:20.312900",
     "exception": false,
     "start_time": "2020-10-15T04:09:20.264484",
     "status": "completed"
    },
    "tags": []
   },
   "source": [
    "Observations:\n",
    "* \"Survived\" is inversely correlated with the passenger class, as seen in the data vizualization as well\n",
    "* \"Survived\" is very slightly and inversely correlated with age of the passengers\n",
    "* Passenger class is inversely correlated with fare, which is obvious"
   ]
  },
  {
   "cell_type": "markdown",
   "metadata": {
    "papermill": {
     "duration": 0.049321,
     "end_time": "2020-10-15T04:09:20.412442",
     "exception": false,
     "start_time": "2020-10-15T04:09:20.363121",
     "status": "completed"
    },
    "tags": []
   },
   "source": [
    "# Modeling the data:"
   ]
  },
  {
   "cell_type": "markdown",
   "metadata": {
    "papermill": {
     "duration": 0.048245,
     "end_time": "2020-10-15T04:09:20.509434",
     "exception": false,
     "start_time": "2020-10-15T04:09:20.461189",
     "status": "completed"
    },
    "tags": []
   },
   "source": [
    "Two of our features \"Sex\" and \"Embarked\" are categorical and have the data type as object, we need to encode it to numbers so that they can be used in the machine learning algorithms below."
   ]
  },
  {
   "cell_type": "markdown",
   "metadata": {
    "papermill": {
     "duration": 0.048218,
     "end_time": "2020-10-15T04:09:20.606295",
     "exception": false,
     "start_time": "2020-10-15T04:09:20.558077",
     "status": "completed"
    },
    "tags": []
   },
   "source": [
    "Training data:\n",
    "* X_train: The independent feature set\n",
    "* Y_train: The dependent variable"
   ]
  },
  {
   "cell_type": "code",
   "execution_count": 23,
   "metadata": {
    "execution": {
     "iopub.execute_input": "2020-10-15T04:09:20.717772Z",
     "iopub.status.busy": "2020-10-15T04:09:20.716670Z",
     "iopub.status.idle": "2020-10-15T04:09:20.728479Z",
     "shell.execute_reply": "2020-10-15T04:09:20.727794Z"
    },
    "papermill": {
     "duration": 0.07292,
     "end_time": "2020-10-15T04:09:20.728601",
     "exception": false,
     "start_time": "2020-10-15T04:09:20.655681",
     "status": "completed"
    },
    "tags": []
   },
   "outputs": [
    {
     "name": "stdout",
     "output_type": "stream",
     "text": [
      "   Pclass   Age  SibSp  Parch     Fare  Sex_female  Sex_male  Embarked_C  \\\n",
      "0       3  22.0      1      0   7.2500           0         1           0   \n",
      "1       1  38.0      1      0  71.2833           1         0           1   \n",
      "2       3  26.0      0      0   7.9250           1         0           0   \n",
      "3       1  35.0      1      0  53.1000           1         0           0   \n",
      "4       3  35.0      0      0   8.0500           0         1           0   \n",
      "\n",
      "   Embarked_Q  Embarked_S  \n",
      "0           0           1  \n",
      "1           0           0  \n",
      "2           0           1  \n",
      "3           0           1  \n",
      "4           0           1  \n"
     ]
    }
   ],
   "source": [
    "from sklearn.preprocessing import OneHotEncoder\n",
    "X_train = titanic_train[['Pclass','Age','SibSp','Parch','Fare']]\n",
    "X_train = pd.concat([X_train,pd.get_dummies(titanic_train[['Sex','Embarked']])], axis=1)\n",
    "print(X_train.head())\n",
    "Y_train= titanic_train['Survived']\n"
   ]
  },
  {
   "cell_type": "markdown",
   "metadata": {
    "papermill": {
     "duration": 0.048528,
     "end_time": "2020-10-15T04:09:20.826710",
     "exception": false,
     "start_time": "2020-10-15T04:09:20.778182",
     "status": "completed"
    },
    "tags": []
   },
   "source": [
    "Testing data:\n",
    "* X_test: The independent feature set\n",
    "* Y_test: The target variable to be predicted"
   ]
  },
  {
   "cell_type": "code",
   "execution_count": 24,
   "metadata": {
    "execution": {
     "iopub.execute_input": "2020-10-15T04:09:20.944424Z",
     "iopub.status.busy": "2020-10-15T04:09:20.943664Z",
     "iopub.status.idle": "2020-10-15T04:09:20.948586Z",
     "shell.execute_reply": "2020-10-15T04:09:20.947632Z"
    },
    "papermill": {
     "duration": 0.073125,
     "end_time": "2020-10-15T04:09:20.948769",
     "exception": false,
     "start_time": "2020-10-15T04:09:20.875644",
     "status": "completed"
    },
    "tags": []
   },
   "outputs": [
    {
     "name": "stdout",
     "output_type": "stream",
     "text": [
      "   Pclass   Age  SibSp  Parch     Fare  Sex_female  Sex_male  Embarked_C  \\\n",
      "0       3  34.5      0      0   7.8292           0         1           0   \n",
      "1       3  47.0      1      0   7.0000           1         0           0   \n",
      "2       2  62.0      0      0   9.6875           0         1           0   \n",
      "3       3  27.0      0      0   8.6625           0         1           0   \n",
      "4       3  22.0      1      1  12.2875           1         0           0   \n",
      "\n",
      "   Embarked_Q  Embarked_S  \n",
      "0           1           0  \n",
      "1           0           1  \n",
      "2           1           0  \n",
      "3           0           1  \n",
      "4           0           1  \n"
     ]
    }
   ],
   "source": [
    "from sklearn.preprocessing import OneHotEncoder\n",
    "X_test = titanic_test[['Pclass','Age','SibSp','Parch','Fare']]\n",
    "X_test = pd.concat([X_test,pd.get_dummies(titanic_test[['Sex','Embarked']])], axis=1)\n",
    "print(X_test.head())\n",
    "\n"
   ]
  },
  {
   "cell_type": "markdown",
   "metadata": {
    "papermill": {
     "duration": 0.050917,
     "end_time": "2020-10-15T04:09:21.051458",
     "exception": false,
     "start_time": "2020-10-15T04:09:21.000541",
     "status": "completed"
    },
    "tags": []
   },
   "source": [
    "# Logistic Regression Model:"
   ]
  },
  {
   "cell_type": "code",
   "execution_count": 25,
   "metadata": {
    "execution": {
     "iopub.execute_input": "2020-10-15T04:09:21.160072Z",
     "iopub.status.busy": "2020-10-15T04:09:21.159052Z",
     "iopub.status.idle": "2020-10-15T04:09:21.261889Z",
     "shell.execute_reply": "2020-10-15T04:09:21.261064Z"
    },
    "papermill": {
     "duration": 0.161297,
     "end_time": "2020-10-15T04:09:21.262035",
     "exception": false,
     "start_time": "2020-10-15T04:09:21.100738",
     "status": "completed"
    },
    "tags": []
   },
   "outputs": [
    {
     "name": "stdout",
     "output_type": "stream",
     "text": [
      "Accuracy 80.25 %\n"
     ]
    }
   ],
   "source": [
    "LR_survived = LogisticRegression(solver='lbfgs',max_iter=10000)\n",
    "LR_survived.fit(X_train, Y_train)\n",
    "LR_pred = LR_survived.predict(X_test)\n",
    "LR_Accuracy = \"{:.2f} %\".format(LR_survived.score(X_train,Y_train)*100)\n",
    "print(\"Accuracy\",LR_Accuracy)"
   ]
  },
  {
   "cell_type": "markdown",
   "metadata": {
    "papermill": {
     "duration": 0.049728,
     "end_time": "2020-10-15T04:09:21.364776",
     "exception": false,
     "start_time": "2020-10-15T04:09:21.315048",
     "status": "completed"
    },
    "tags": []
   },
   "source": [
    "# Support Vector Classifier:"
   ]
  },
  {
   "cell_type": "code",
   "execution_count": 26,
   "metadata": {
    "execution": {
     "iopub.execute_input": "2020-10-15T04:09:21.474227Z",
     "iopub.status.busy": "2020-10-15T04:09:21.473550Z",
     "iopub.status.idle": "2020-10-15T04:09:21.536659Z",
     "shell.execute_reply": "2020-10-15T04:09:21.535935Z"
    },
    "papermill": {
     "duration": 0.121304,
     "end_time": "2020-10-15T04:09:21.536786",
     "exception": false,
     "start_time": "2020-10-15T04:09:21.415482",
     "status": "completed"
    },
    "tags": []
   },
   "outputs": [
    {
     "name": "stdout",
     "output_type": "stream",
     "text": [
      "Accuracy 68.35 %\n"
     ]
    }
   ],
   "source": [
    "SVC_survived = SVC()\n",
    "SVC_survived.fit(X_train, Y_train)\n",
    "SVC_pred = SVC_survived.predict(X_test)\n",
    "SVC_Accuracy = \"{:.2f} %\".format(SVC_survived.score(X_train,Y_train)*100)\n",
    "print(\"Accuracy\",SVC_Accuracy)"
   ]
  },
  {
   "cell_type": "markdown",
   "metadata": {
    "papermill": {
     "duration": 0.055351,
     "end_time": "2020-10-15T04:09:21.646571",
     "exception": false,
     "start_time": "2020-10-15T04:09:21.591220",
     "status": "completed"
    },
    "tags": []
   },
   "source": [
    "# K Nearest Neighbour Algorithm:"
   ]
  },
  {
   "cell_type": "code",
   "execution_count": 27,
   "metadata": {
    "execution": {
     "iopub.execute_input": "2020-10-15T04:09:21.763947Z",
     "iopub.status.busy": "2020-10-15T04:09:21.763166Z",
     "iopub.status.idle": "2020-10-15T04:09:21.816433Z",
     "shell.execute_reply": "2020-10-15T04:09:21.815765Z"
    },
    "papermill": {
     "duration": 0.115525,
     "end_time": "2020-10-15T04:09:21.816550",
     "exception": false,
     "start_time": "2020-10-15T04:09:21.701025",
     "status": "completed"
    },
    "tags": []
   },
   "outputs": [
    {
     "name": "stdout",
     "output_type": "stream",
     "text": [
      "Accuracy 83.73 %\n"
     ]
    }
   ],
   "source": [
    "KNN_survived = KNeighborsClassifier(n_neighbors = 3)\n",
    "KNN_survived.fit(X_train, Y_train)\n",
    "KNN_pred = KNN_survived.predict(X_test)\n",
    "KNN_Accuracy = \"{:.2f} %\".format(KNN_survived.score(X_train,Y_train)*100)\n",
    "print(\"Accuracy\",KNN_Accuracy)"
   ]
  },
  {
   "cell_type": "markdown",
   "metadata": {
    "papermill": {
     "duration": 0.050661,
     "end_time": "2020-10-15T04:09:21.917824",
     "exception": false,
     "start_time": "2020-10-15T04:09:21.867163",
     "status": "completed"
    },
    "tags": []
   },
   "source": [
    "# Gaussian Naive Bayes:"
   ]
  },
  {
   "cell_type": "code",
   "execution_count": 28,
   "metadata": {
    "execution": {
     "iopub.execute_input": "2020-10-15T04:09:22.032844Z",
     "iopub.status.busy": "2020-10-15T04:09:22.031680Z",
     "iopub.status.idle": "2020-10-15T04:09:22.043060Z",
     "shell.execute_reply": "2020-10-15T04:09:22.042543Z"
    },
    "papermill": {
     "duration": 0.074022,
     "end_time": "2020-10-15T04:09:22.043178",
     "exception": false,
     "start_time": "2020-10-15T04:09:21.969156",
     "status": "completed"
    },
    "tags": []
   },
   "outputs": [
    {
     "name": "stdout",
     "output_type": "stream",
     "text": [
      "Accuracy 79.12 %\n"
     ]
    }
   ],
   "source": [
    "NB_survived = GaussianNB()\n",
    "NB_survived.fit(X_train, Y_train)\n",
    "NB_pred = NB_survived.predict(X_test)\n",
    "NB_Accuracy = \"{:.2f} %\".format(NB_survived.score(X_train,Y_train)*100)\n",
    "print(\"Accuracy\",NB_Accuracy)"
   ]
  },
  {
   "cell_type": "markdown",
   "metadata": {
    "papermill": {
     "duration": 0.050931,
     "end_time": "2020-10-15T04:09:22.146833",
     "exception": false,
     "start_time": "2020-10-15T04:09:22.095902",
     "status": "completed"
    },
    "tags": []
   },
   "source": [
    "# Decision Tree:"
   ]
  },
  {
   "cell_type": "code",
   "execution_count": 29,
   "metadata": {
    "execution": {
     "iopub.execute_input": "2020-10-15T04:09:22.259663Z",
     "iopub.status.busy": "2020-10-15T04:09:22.258871Z",
     "iopub.status.idle": "2020-10-15T04:09:22.272530Z",
     "shell.execute_reply": "2020-10-15T04:09:22.271941Z"
    },
    "papermill": {
     "duration": 0.073871,
     "end_time": "2020-10-15T04:09:22.272661",
     "exception": false,
     "start_time": "2020-10-15T04:09:22.198790",
     "status": "completed"
    },
    "tags": []
   },
   "outputs": [
    {
     "name": "stdout",
     "output_type": "stream",
     "text": [
      "Accuracy 98.20 %\n"
     ]
    }
   ],
   "source": [
    "DT_survived = DecisionTreeClassifier()\n",
    "DT_survived.fit(X_train, Y_train)\n",
    "DT_pred = DT_survived.predict(X_test)\n",
    "DT_Accuracy = \"{:.2f} %\".format(DT_survived.score(X_train,Y_train)*100)\n",
    "print(\"Accuracy\",DT_Accuracy)"
   ]
  },
  {
   "cell_type": "markdown",
   "metadata": {
    "papermill": {
     "duration": 0.053156,
     "end_time": "2020-10-15T04:09:22.376886",
     "exception": false,
     "start_time": "2020-10-15T04:09:22.323730",
     "status": "completed"
    },
    "tags": []
   },
   "source": [
    "# Random Forest:"
   ]
  },
  {
   "cell_type": "code",
   "execution_count": 30,
   "metadata": {
    "execution": {
     "iopub.execute_input": "2020-10-15T04:09:22.488906Z",
     "iopub.status.busy": "2020-10-15T04:09:22.488203Z",
     "iopub.status.idle": "2020-10-15T04:09:22.523727Z",
     "shell.execute_reply": "2020-10-15T04:09:22.523041Z"
    },
    "papermill": {
     "duration": 0.095396,
     "end_time": "2020-10-15T04:09:22.523847",
     "exception": false,
     "start_time": "2020-10-15T04:09:22.428451",
     "status": "completed"
    },
    "tags": []
   },
   "outputs": [
    {
     "name": "stdout",
     "output_type": "stream",
     "text": [
      "Accuracy 96.86 %\n"
     ]
    }
   ],
   "source": [
    "RF_survived = RandomForestClassifier(n_estimators=10)\n",
    "RF_survived.fit(X_train, Y_train)\n",
    "RF_pred = RF_survived.predict(X_test)\n",
    "RF_Accuracy = \"{:.2f} %\".format(RF_survived.score(X_train,Y_train)*100)\n",
    "print(\"Accuracy\",RF_Accuracy)"
   ]
  },
  {
   "cell_type": "markdown",
   "metadata": {
    "papermill": {
     "duration": 0.05446,
     "end_time": "2020-10-15T04:09:22.632192",
     "exception": false,
     "start_time": "2020-10-15T04:09:22.577732",
     "status": "completed"
    },
    "tags": []
   },
   "source": [
    "# X- Gradient Booster:"
   ]
  },
  {
   "cell_type": "code",
   "execution_count": 31,
   "metadata": {
    "execution": {
     "iopub.execute_input": "2020-10-15T04:09:22.748560Z",
     "iopub.status.busy": "2020-10-15T04:09:22.747874Z",
     "iopub.status.idle": "2020-10-15T04:09:22.835359Z",
     "shell.execute_reply": "2020-10-15T04:09:22.836027Z"
    },
    "papermill": {
     "duration": 0.149376,
     "end_time": "2020-10-15T04:09:22.836209",
     "exception": false,
     "start_time": "2020-10-15T04:09:22.686833",
     "status": "completed"
    },
    "tags": []
   },
   "outputs": [
    {
     "name": "stdout",
     "output_type": "stream",
     "text": [
      "Accuracy:  96.41 %\n"
     ]
    }
   ],
   "source": [
    "XGB_survived = XGBClassifier()\n",
    "XGB_survived.fit(X_train,Y_train)\n",
    "XGB_pred = XGB_survived.predict(X_test)\n",
    "XGB_Accuracy = \"{:.2f} %\".format(XGB_survived.score(X_train,Y_train)*100)\n",
    "print(\"Accuracy: \",XGB_Accuracy)"
   ]
  },
  {
   "cell_type": "markdown",
   "metadata": {
    "papermill": {
     "duration": 0.070174,
     "end_time": "2020-10-15T04:09:22.976623",
     "exception": false,
     "start_time": "2020-10-15T04:09:22.906449",
     "status": "completed"
    },
    "tags": []
   },
   "source": [
    "Let us table our model accuracies:"
   ]
  },
  {
   "cell_type": "code",
   "execution_count": 32,
   "metadata": {
    "execution": {
     "iopub.execute_input": "2020-10-15T04:09:23.108774Z",
     "iopub.status.busy": "2020-10-15T04:09:23.107858Z",
     "iopub.status.idle": "2020-10-15T04:09:23.112405Z",
     "shell.execute_reply": "2020-10-15T04:09:23.112924Z"
    },
    "papermill": {
     "duration": 0.070666,
     "end_time": "2020-10-15T04:09:23.113093",
     "exception": false,
     "start_time": "2020-10-15T04:09:23.042427",
     "status": "completed"
    },
    "tags": []
   },
   "outputs": [
    {
     "data": {
      "text/html": [
       "<div>\n",
       "<style scoped>\n",
       "    .dataframe tbody tr th:only-of-type {\n",
       "        vertical-align: middle;\n",
       "    }\n",
       "\n",
       "    .dataframe tbody tr th {\n",
       "        vertical-align: top;\n",
       "    }\n",
       "\n",
       "    .dataframe thead th {\n",
       "        text-align: right;\n",
       "    }\n",
       "</style>\n",
       "<table border=\"1\" class=\"dataframe\">\n",
       "  <thead>\n",
       "    <tr style=\"text-align: right;\">\n",
       "      <th></th>\n",
       "      <th>Model</th>\n",
       "      <th>Score</th>\n",
       "    </tr>\n",
       "  </thead>\n",
       "  <tbody>\n",
       "    <tr>\n",
       "      <th>4</th>\n",
       "      <td>Decision Tree</td>\n",
       "      <td>98.20 %</td>\n",
       "    </tr>\n",
       "    <tr>\n",
       "      <th>5</th>\n",
       "      <td>Random Forest</td>\n",
       "      <td>96.86 %</td>\n",
       "    </tr>\n",
       "    <tr>\n",
       "      <th>6</th>\n",
       "      <td>XGBClassifier</td>\n",
       "      <td>96.41 %</td>\n",
       "    </tr>\n",
       "    <tr>\n",
       "      <th>2</th>\n",
       "      <td>KNN</td>\n",
       "      <td>83.73 %</td>\n",
       "    </tr>\n",
       "    <tr>\n",
       "      <th>0</th>\n",
       "      <td>Logistic Regression</td>\n",
       "      <td>80.25 %</td>\n",
       "    </tr>\n",
       "    <tr>\n",
       "      <th>3</th>\n",
       "      <td>Gaussian Naive Bayes</td>\n",
       "      <td>79.12 %</td>\n",
       "    </tr>\n",
       "    <tr>\n",
       "      <th>1</th>\n",
       "      <td>Support Vector Machines</td>\n",
       "      <td>68.35 %</td>\n",
       "    </tr>\n",
       "  </tbody>\n",
       "</table>\n",
       "</div>"
      ],
      "text/plain": [
       "                     Model    Score\n",
       "4            Decision Tree  98.20 %\n",
       "5            Random Forest  96.86 %\n",
       "6            XGBClassifier  96.41 %\n",
       "2                      KNN  83.73 %\n",
       "0      Logistic Regression  80.25 %\n",
       "3     Gaussian Naive Bayes  79.12 %\n",
       "1  Support Vector Machines  68.35 %"
      ]
     },
     "execution_count": 32,
     "metadata": {},
     "output_type": "execute_result"
    }
   ],
   "source": [
    "Models = pd.DataFrame({\n",
    "    'Model': ['Logistic Regression','Support Vector Machines', 'KNN', 'Gaussian Naive Bayes','Decision Tree','Random Forest','XGBClassifier'],\n",
    "    'Score': [LR_Accuracy,SVC_Accuracy, KNN_Accuracy, NB_Accuracy,DT_Accuracy, RF_Accuracy, XGB_Accuracy]})\n",
    "Models.sort_values(by='Score', ascending=False)"
   ]
  },
  {
   "cell_type": "markdown",
   "metadata": {
    "papermill": {
     "duration": 0.053291,
     "end_time": "2020-10-15T04:09:23.222209",
     "exception": false,
     "start_time": "2020-10-15T04:09:23.168918",
     "status": "completed"
    },
    "tags": []
   },
   "source": [
    "# Output files for each Model:"
   ]
  },
  {
   "cell_type": "code",
   "execution_count": 33,
   "metadata": {
    "execution": {
     "iopub.execute_input": "2020-10-15T04:09:23.340228Z",
     "iopub.status.busy": "2020-10-15T04:09:23.337723Z",
     "iopub.status.idle": "2020-10-15T04:09:23.723141Z",
     "shell.execute_reply": "2020-10-15T04:09:23.722477Z"
    },
    "papermill": {
     "duration": 0.447997,
     "end_time": "2020-10-15T04:09:23.723293",
     "exception": false,
     "start_time": "2020-10-15T04:09:23.275296",
     "status": "completed"
    },
    "tags": []
   },
   "outputs": [],
   "source": [
    "# submission file from each model\n",
    "SVC_file = pd.DataFrame({\"PassengerId\": titanic_test[\"PassengerId\"], \"Survived\": SVC_pred})\n",
    "SVC_file.to_csv('SVC_file.csv', index=False)\n",
    "\n",
    "LR_file = pd.DataFrame({\"PassengerId\": titanic_test[\"PassengerId\"], \"Survived\": LR_pred})\n",
    "LR_file.to_csv('LR_file.csv', index=False)\n",
    "\n",
    "KNN_file = pd.DataFrame({\"PassengerId\": titanic_test[\"PassengerId\"], \"Survived\": KNN_pred})\n",
    "KNN_file.to_csv('KNN_file.csv', index=False)\n",
    "\n",
    "NB_file = pd.DataFrame({\"PassengerId\": titanic_test[\"PassengerId\"], \"Survived\": NB_pred})\n",
    "NB_file.to_csv('NB_file.csv', index=False)\n",
    "\n",
    "DT_file = pd.DataFrame({\"PassengerId\": titanic_test[\"PassengerId\"], \"Survived\": DT_pred})\n",
    "DT_file.to_csv('DT_file.csv', index=False)\n",
    "\n",
    "RF_file = pd.DataFrame({\"PassengerId\": titanic_test[\"PassengerId\"], \"Survived\": RF_pred})\n",
    "RF_file.to_csv('RF_file.csv', index=False)\n",
    "\n",
    "XGB_file = pd.DataFrame({\"PassengerId\": titanic_test[\"PassengerId\"], \"Survived\": XGB_pred})\n",
    "XGB_file.to_csv('XGB_file.csv', index=False)"
   ]
  },
  {
   "cell_type": "markdown",
   "metadata": {
    "papermill": {
     "duration": 0.052169,
     "end_time": "2020-10-15T04:09:23.828929",
     "exception": false,
     "start_time": "2020-10-15T04:09:23.776760",
     "status": "completed"
    },
    "tags": []
   },
   "source": [
    "The highest model accuracy for the testing data was achieved with the Logistic Regression Model, it predicted the survival numbers for the testing set with a score of 78%."
   ]
  }
 ],
 "metadata": {
  "kernelspec": {
   "display_name": "Python 3",
   "language": "python",
   "name": "python3"
  },
  "language_info": {
   "codemirror_mode": {
    "name": "ipython",
    "version": 3
   },
   "file_extension": ".py",
   "mimetype": "text/x-python",
   "name": "python",
   "nbconvert_exporter": "python",
   "pygments_lexer": "ipython3",
   "version": "3.7.6"
  },
  "papermill": {
   "duration": 17.303527,
   "end_time": "2020-10-15T04:09:23.989180",
   "environment_variables": {},
   "exception": null,
   "input_path": "__notebook__.ipynb",
   "output_path": "__notebook__.ipynb",
   "parameters": {},
   "start_time": "2020-10-15T04:09:06.685653",
   "version": "2.1.0"
  }
 },
 "nbformat": 4,
 "nbformat_minor": 4
}
